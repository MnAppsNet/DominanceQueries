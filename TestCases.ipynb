{
 "cells": [
  {
   "attachments": {},
   "cell_type": "markdown",
   "metadata": {},
   "source": [
    "### Compile Scala application"
   ]
  },
  {
   "cell_type": "code",
   "execution_count": 22,
   "metadata": {
    "vscode": {
     "languageId": "bat"
    }
   },
   "outputs": [
    {
     "name": "stdout",
     "output_type": "stream",
     "text": [
      "\u001b[0m[\u001b[0m\u001b[0minfo\u001b[0m] \u001b[0m\u001b[0mwelcome to sbt 1.8.0 (Ubuntu Java 11.0.17)\u001b[0m\u001b[0J\n",
      "\u001b[0J\u001b[0m[\u001b[0m\u001b[0minfo\u001b[0m] \u001b[0m\u001b[0mloading settings for project dominancequeries-build-build-build from metals.sbt ...\u001b[0m\u001b[0J\n",
      "\u001b[0J\u001b[0m[\u001b[0m\u001b[0minfo\u001b[0m] \u001b[0m\u001b[0mloading project definition from /home/mnapps/DominanceQueries/project/project/project\u001b[0m\u001b[0J\n",
      "\u001b[0J\u001b[0J\u001b[0J\u001b[0J\u001b[0J\u001b[0J\u001b[0J\u001b[0J\u001b[0J\u001b[1000D\n",
      "\u001b[2K\u001b[2K  | => dominancequeries-build-build-build / dependencyPositions 0s\n",
      "\u001b[2K\u001b[2A\u001b[1000D\u001b[0J\u001b[0J\u001b[0m[\u001b[0m\u001b[0minfo\u001b[0m] \u001b[0m\u001b[0mloading settings for project dominancequeries-build-build from metals.sbt ...\u001b[0m\u001b[0J\n",
      "\u001b[0J\u001b[0m[\u001b[0m\u001b[0minfo\u001b[0m] \u001b[0m\u001b[0mloading project definition from /home/mnapps/DominanceQueries/project/project\u001b[0m\u001b[0J\n",
      "\u001b[0J\u001b[0J\u001b[0J\u001b[0J\u001b[0J\u001b[0J\u001b[0J\u001b[0J\u001b[1000D\n",
      "\u001b[2K\u001b[2K  | => dominancequeries-build-build / update 0s\n",
      "\u001b[2K\u001b[2A\u001b[1000D\u001b[0m[\u001b[0m\u001b[32msuccess\u001b[0m] \u001b[0m\u001b[0mGenerated .bloop/dominancequeries-build-build.json\u001b[0m\u001b[0J\n",
      "\u001b[0J\u001b[1000D\n",
      "\u001b[2K\u001b[2K  | => dominancequeries-build-build / update 0s\n",
      "\u001b[2K\u001b[2A\u001b[1000D\u001b[0J\u001b[0J\u001b[0m[\u001b[0m\u001b[32msuccess\u001b[0m] \u001b[0m\u001b[0mTotal time: 0 s, completed Jan 9, 2023, 8:41:56 PM\u001b[0m\u001b[0J\n",
      "\u001b[0J\u001b[0J\u001b[0J\u001b[0J\u001b[0J\u001b[0J\u001b[0J\u001b[0J\u001b[0J\u001b[0J\u001b[0m[\u001b[0m\u001b[0minfo\u001b[0m] \u001b[0m\u001b[0mloading settings for project dominancequeries-build from assembly.sbt,metals.sbt ...\u001b[0m\u001b[0J\n",
      "\u001b[0J\u001b[0m[\u001b[0m\u001b[0minfo\u001b[0m] \u001b[0m\u001b[0mloading project definition from /home/mnapps/DominanceQueries/project\u001b[0m\u001b[0J\n",
      "\u001b[0J\u001b[0J\u001b[0J\u001b[0J\u001b[0J\u001b[0J\u001b[0J\u001b[0J\u001b[1000D\n",
      "\u001b[2K\u001b[2K  | => dominancequeries-build / Compile / bloopGenerate 0s\n",
      "\u001b[2K\u001b[2A\u001b[1000D\u001b[0m[\u001b[0m\u001b[32msuccess\u001b[0m] \u001b[0m\u001b[0mGenerated .bloop/dominancequeries-build.json\u001b[0m\u001b[0J\n",
      "\u001b[0J\u001b[1000D\n",
      "\u001b[2K\u001b[2K  | => dominancequeries-build / Compile / bloopGenerate 0s\n",
      "\u001b[2K\u001b[2A\u001b[1000D\u001b[0J\u001b[0J\u001b[0m[\u001b[0m\u001b[32msuccess\u001b[0m] \u001b[0m\u001b[0mTotal time: 0 s, completed Jan 9, 2023, 8:41:57 PM\u001b[0m\u001b[0J\n",
      "\u001b[0J\u001b[0J\u001b[0J\u001b[0J\u001b[0J\u001b[0J\u001b[0J\u001b[0J\u001b[0J\u001b[0J\u001b[0m[\u001b[0m\u001b[0minfo\u001b[0m] \u001b[0m\u001b[0mloading settings for project sample from build.sbt ...\u001b[0m\u001b[0J\n",
      "\u001b[0J\u001b[0m[\u001b[0m\u001b[0minfo\u001b[0m] \u001b[0m\u001b[0mset current project to DominanceQueries (in build file:/home/mnapps/DominanceQueries/)\u001b[0m\u001b[0J\n",
      "\u001b[0J\u001b[0J\u001b[0J\u001b[0J\u001b[1000D\n",
      "\u001b[2K\u001b[2K  | => sample / cleanIvy 0s\n",
      "\u001b[2K\u001b[2A\u001b[1000D\u001b[1000D\n",
      "\u001b[2K\u001b[2K  | => sample / clean 0s\n",
      "\u001b[2K\u001b[2A\u001b[1000D\u001b[1000D\n",
      "\u001b[2K\u001b[2K  | => sample / clean 1s\n",
      "\u001b[2K\u001b[2A\u001b[1000D\u001b[0J\u001b[0m[\u001b[0m\u001b[32msuccess\u001b[0m] \u001b[0m\u001b[0mTotal time: 2 s, completed Jan 9, 2023, 8:41:59 PM\u001b[0m\u001b[0J\n",
      "\u001b[0J\u001b[0J\u001b[0J\u001b[0J\u001b[0J\u001b[0J\u001b[0J\u001b[0J\u001b[0J\u001b[0J\u001b[1000D\n",
      "\u001b[2K\u001b[2K  | => sample / update 0s\n",
      "\u001b[2K\u001b[2A\u001b[1000D\u001b[1000D\n",
      "\u001b[2K\u001b[2K  | => sample / update 0s\n",
      "\u001b[2K\u001b[2A\u001b[1000D\u001b[1000D\n",
      "\u001b[2K\u001b[2K  | => sample / update 1s\n",
      "\u001b[2K\u001b[2A\u001b[1000D\u001b[0J\u001b[0m[\u001b[0m\u001b[0minfo\u001b[0m] \u001b[0m\u001b[0mcompiling 2 Scala sources to /home/mnapps/DominanceQueries/target/scala-2.13/classes ...\u001b[0m\u001b[0J\n",
      "\u001b[0J\u001b[1000D\n",
      "\u001b[2K\u001b[2K  | => sample / Compile / compileIncremental 0s\n",
      "\u001b[2K\u001b[2A\u001b[1000D\u001b[1000D\n",
      "\u001b[2K\u001b[2K  | => sample / Compile / compileIncremental 0s\n",
      "\u001b[2K\u001b[2A\u001b[1000D\u001b[1000D\n",
      "\u001b[2K\u001b[2K  | => sample / Compile / compileIncremental 1s\n",
      "\u001b[2K\u001b[2A\u001b[1000D\u001b[1000D\n",
      "\u001b[2K\u001b[2K  | => sample / Compile / compileIncremental 2s\n",
      "\u001b[2K\u001b[2A\u001b[1000D\u001b[1000D\n",
      "\u001b[2K\u001b[2K  | => sample / Compile / compileIncremental 3s\n",
      "\u001b[2K\u001b[2A\u001b[1000D\u001b[0m[\u001b[0m\u001b[33mwarn\u001b[0m] \u001b[0m\u001b[0m3 deprecations (since 2.13.0)\u001b[0m\u001b[0J\n",
      "\u001b[0J\u001b[1000D\n",
      "\u001b[2K\u001b[2K  | => sample / Compile / compileIncremental 3s\n",
      "\u001b[2K\u001b[2A\u001b[1000D\u001b[0m[\u001b[0m\u001b[33mwarn\u001b[0m] \u001b[0m\u001b[0m1 deprecation (since 2.13.3)\u001b[0m\u001b[0J\n",
      "\u001b[0J\u001b[1000D\n",
      "\u001b[2K\u001b[2K  | => sample / Compile / compileIncremental 3s\n",
      "\u001b[2K\u001b[2A\u001b[1000D\u001b[0m[\u001b[0m\u001b[33mwarn\u001b[0m] \u001b[0m\u001b[0m4 deprecations in total; re-run with -deprecation for details\u001b[0m\u001b[0J\n",
      "\u001b[0J\u001b[1000D\n",
      "\u001b[2K\u001b[2K  | => sample / Compile / compileIncremental 3s\n",
      "\u001b[2K\u001b[2A\u001b[1000D\u001b[0m[\u001b[0m\u001b[33mwarn\u001b[0m] \u001b[0m\u001b[0mthree warnings found\u001b[0m\u001b[0J\n",
      "\u001b[0J\u001b[1000D\n",
      "\u001b[2K\u001b[2K  | => sample / Compile / compileIncremental 3s\n",
      "\u001b[2K\u001b[2A\u001b[1000D\u001b[0J\u001b[1000D\n",
      "\u001b[2K\u001b[2K  | => sample / Compile / compile 0s\n",
      "\u001b[2K\u001b[2A\u001b[1000D\u001b[1000D\n",
      "\u001b[2K\u001b[2K  | => sample / assembly / assembledMappings 0s\n",
      "\u001b[2K\u001b[2A\u001b[1000D\u001b[1000D\n",
      "\u001b[2K\u001b[2K  | => sample / assembly / assembledMappings 1s\n",
      "\u001b[2K\u001b[2A\u001b[1000D\u001b[1000D\n",
      "\u001b[2K\u001b[2K  | => sample / assembly / assembledMappings 2s\n",
      "\u001b[2K\u001b[2A\u001b[1000D\u001b[1000D\n",
      "\u001b[2K\u001b[2K  | => sample / assembly / assembledMappings 2s\n",
      "\u001b[2K\u001b[2A\u001b[1000D\u001b[1000D\n",
      "\u001b[2K\u001b[2K  | => sample / assembly 0s\n",
      "\u001b[2K\u001b[2A\u001b[1000D\u001b[1000D\n",
      "\u001b[2K\u001b[2K  | => sample / assembly 0s\n",
      "\u001b[2K\u001b[2A\u001b[1000D\u001b[0m[\u001b[0m\u001b[0minfo\u001b[0m] \u001b[0m\u001b[0mStrategy 'discard' was applied to a file (Run the task at debug level to see details)\u001b[0m\u001b[0J\n",
      "\u001b[0J\u001b[1000D\n",
      "\u001b[2K\u001b[2K  | => sample / assembly 0s\n",
      "\u001b[2K\u001b[2A\u001b[1000D\u001b[0m[\u001b[0m\u001b[0minfo\u001b[0m] \u001b[0m\u001b[0mStrategy 'first' was applied to 302 files (Run the task at debug level to see details)\u001b[0m\u001b[0J\n",
      "\u001b[0J\u001b[1000D\n",
      "\u001b[2K\u001b[2K  | => sample / assembly 0s\n",
      "\u001b[2K\u001b[2A\u001b[1000D\u001b[0m[\u001b[0m\u001b[33mwarn\u001b[0m] \u001b[0m\u001b[0mIgnored unknown package option FixedTimestamp(Some(1262304000000))\u001b[0m\u001b[0J\n",
      "\u001b[0J\u001b[1000D\n",
      "\u001b[2K\u001b[2K  | => sample / assembly 0s\n",
      "\u001b[2K\u001b[2A\u001b[1000D\u001b[1000D\n",
      "\u001b[2K\u001b[2K  | => sample / assembly 1s\n",
      "\u001b[2K\u001b[2A\u001b[1000D\u001b[1000D\n",
      "\u001b[2K\u001b[2K  | => sample / assembly 2s\n",
      "\u001b[2K\u001b[2A\u001b[1000D\u001b[1000D\n",
      "\u001b[2K\u001b[2K  | => sample / assembly 3s\n",
      "\u001b[2K\u001b[2A\u001b[1000D\u001b[1000D\n",
      "\u001b[2K\u001b[2K  | => sample / assembly 4s\n",
      "\u001b[2K\u001b[2A\u001b[1000D\u001b[1000D\n",
      "\u001b[2K\u001b[2K  | => sample / assembly 5s\n",
      "\u001b[2K\u001b[2A\u001b[1000D\u001b[1000D\n",
      "\u001b[2K\u001b[2K  | => sample / assembly 6s\n",
      "\u001b[2K\u001b[2A\u001b[1000D\u001b[1000D\n",
      "\u001b[2K\u001b[2K  | => sample / assembly 7s\n",
      "\u001b[2K\u001b[2A\u001b[1000D\u001b[1000D\n",
      "\u001b[2K\u001b[2K  | => sample / assembly 8s\n",
      "\u001b[2K\u001b[2A\u001b[1000D\u001b[1000D\n",
      "\u001b[2K\u001b[2K  | => sample / assembly 9s\n",
      "\u001b[2K\u001b[2A\u001b[1000D\u001b[1000D\n",
      "\u001b[2K\u001b[2K  | => sample / assembly 10s\n",
      "\u001b[2K\u001b[2A\u001b[1000D\u001b[1000D\n",
      "\u001b[2K\u001b[2K  | => sample / assembly 11s\n",
      "\u001b[2K\u001b[2A\u001b[1000D\u001b[1000D\n",
      "\u001b[2K\u001b[2K  | => sample / assembly 12s\n",
      "\u001b[2K\u001b[2A\u001b[1000D\u001b[1000D\n",
      "\u001b[2K\u001b[2K  | => sample / assembly 13s\n",
      "\u001b[2K\u001b[2A\u001b[1000D\u001b[1000D\n",
      "\u001b[2K\u001b[2K  | => sample / assembly 14s\n",
      "\u001b[2K\u001b[2A\u001b[1000D\u001b[1000D\n",
      "\u001b[2K\u001b[2K  | => sample / assembly 15s\n",
      "\u001b[2K\u001b[2A\u001b[1000D\u001b[1000D\n",
      "\u001b[2K\u001b[2K  | => sample / assembly 16s\n",
      "\u001b[2K\u001b[2A\u001b[1000D\u001b[1000D\n",
      "\u001b[2K\u001b[2K  | => sample / assembly 17s\n",
      "\u001b[2K\u001b[2A\u001b[1000D\u001b[0J\u001b[0m[\u001b[0m\u001b[32msuccess\u001b[0m] \u001b[0m\u001b[0mTotal time: 28 s, completed Jan 9, 2023, 8:42:28 PM\u001b[0m\u001b[0J\n",
      "\u001b[0J\u001b[0J"
     ]
    }
   ],
   "source": [
    "!./build.sh"
   ]
  },
  {
   "attachments": {},
   "cell_type": "markdown",
   "metadata": {},
   "source": [
    "### Correlated Dataset with 1 Million samples and 2 dimensions"
   ]
  },
  {
   "cell_type": "code",
   "execution_count": 5,
   "metadata": {
    "vscode": {
     "languageId": "bat"
    }
   },
   "outputs": [
    {
     "name": "stdout",
     "output_type": "stream",
     "text": [
      "Correlations Matrix :\n",
      "          0         1\n",
      "0  1.000000  0.706768\n",
      "1  0.706768  1.000000\n",
      "\n",
      "Execution time : 2.105718 sec\n"
     ]
    }
   ],
   "source": [
    "!python3 generateDatasets/generateCorrelatedDataset.py -s 1000000 -d 2 -e 0.5 -o datasets/corelated.s1M.e0.5.d3.csv"
   ]
  },
  {
   "cell_type": "code",
   "execution_count": 24,
   "metadata": {
    "vscode": {
     "languageId": "bat"
    }
   },
   "outputs": [
    {
     "name": "stdout",
     "output_type": "stream",
     "text": [
      "\u001b[34m >>>> \u001b[32m Settings file : /home/mnapps/DominanceQueries/settings.json\n",
      "WARNING: sun.reflect.Reflection.getCallerClass is not supported. This will impact performance.\n",
      "ERROR StatusLogger Unrecognized format specifier [d]\n",
      "ERROR StatusLogger Unrecognized conversion specifier [d] starting at position 16 in conversion pattern.\n",
      "ERROR StatusLogger Unrecognized format specifier [thread]\n",
      "ERROR StatusLogger Unrecognized conversion specifier [thread] starting at position 25 in conversion pattern.\n",
      "ERROR StatusLogger Unrecognized format specifier [level]\n",
      "ERROR StatusLogger Unrecognized conversion specifier [level] starting at position 35 in conversion pattern.\n",
      "ERROR StatusLogger Unrecognized format specifier [logger]\n",
      "ERROR StatusLogger Unrecognized conversion specifier [logger] starting at position 47 in conversion pattern.\n",
      "ERROR StatusLogger Unrecognized format specifier [msg]\n",
      "ERROR StatusLogger Unrecognized conversion specifier [msg] starting at position 54 in conversion pattern.\n",
      "ERROR StatusLogger Unrecognized format specifier [n]\n",
      "ERROR StatusLogger Unrecognized conversion specifier [n] starting at position 56 in conversion pattern.\n",
      "ERROR StatusLogger Unrecognized format specifier [d]\n",
      "ERROR StatusLogger Unrecognized conversion specifier [d] starting at position 16 in conversion pattern.\n",
      "ERROR StatusLogger Unrecognized format specifier [thread]\n",
      "ERROR StatusLogger Unrecognized conversion specifier [thread] starting at position 25 in conversion pattern.\n",
      "ERROR StatusLogger Unrecognized format specifier [level]\n",
      "ERROR StatusLogger Unrecognized conversion specifier [level] starting at position 35 in conversion pattern.\n",
      "ERROR StatusLogger Unrecognized format specifier [logger]\n",
      "ERROR StatusLogger Unrecognized conversion specifier [logger] starting at position 47 in conversion pattern.\n",
      "ERROR StatusLogger Unrecognized format specifier [msg]\n",
      "ERROR StatusLogger Unrecognized conversion specifier [msg] starting at position 54 in conversion pattern.\n",
      "ERROR StatusLogger Unrecognized format specifier [n]\n",
      "ERROR StatusLogger Unrecognized conversion specifier [n] starting at position 56 in conversion pattern.\n",
      "WARNING: An illegal reflective access operation has occurred\n",
      "WARNING: Illegal reflective access by org.apache.spark.unsafe.Platform (file:/home/mnapps/DominanceQueries/DominanceQueries.jar) to constructor java.nio.DirectByteBuffer(long,int)\n",
      "WARNING: Please consider reporting this to the maintainers of org.apache.spark.unsafe.Platform\n",
      "WARNING: Use --illegal-access=warn to enable warnings of further illegal reflective access operations\n",
      "WARNING: All illegal access operations will be denied in a future release\n",
      "\u001b[34m >>>> \u001b[32m Task 1:\n",
      "\u001b[34m >>>> \u001b[32m Results saved in file '/home/mnapps/DominanceQueries/results/corelated.s1M.e0.5.d3/task1.csv'...\n",
      "\u001b[34m >>>> \u001b[32m Execution time : 6.135052492 sec\n",
      "\u001b[34m >>>> \u001b[32m ---\n",
      "\u001b[34m >>>> \u001b[32m Task 2:\n",
      "\u001b[34m >>>> \u001b[32m Results saved in file '/home/mnapps/DominanceQueries/results/corelated.s1M.e0.5.d3/task2.csv'...\n",
      "\u001b[34m >>>> \u001b[32m Execution time : 3.130794212 sec\n",
      "\u001b[34m >>>> \u001b[32m ---\n",
      "\u001b[34m >>>> \u001b[32m Task 3:\n",
      "\u001b[34m >>>> \u001b[32m Results saved in file '/home/mnapps/DominanceQueries/results/corelated.s1M.e0.5.d3/task3.csv'...\n",
      "\u001b[34m >>>> \u001b[32m Execution time : 1.872717925 sec\n"
     ]
    }
   ],
   "source": [
    "!java -jar DominanceQueries.jar settings.json 0"
   ]
  },
  {
   "cell_type": "code",
   "execution_count": null,
   "metadata": {
    "vscode": {
     "languageId": "bat"
    }
   },
   "outputs": [],
   "source": []
  }
 ],
 "metadata": {
  "kernelspec": {
   "display_name": "Python 3",
   "language": "python",
   "name": "python3"
  },
  "language_info": {
   "codemirror_mode": {
    "name": "ipython",
    "version": 3
   },
   "file_extension": ".py",
   "mimetype": "text/x-python",
   "name": "python",
   "nbconvert_exporter": "python",
   "pygments_lexer": "ipython3",
   "version": "3.8.10"
  },
  "orig_nbformat": 4,
  "vscode": {
   "interpreter": {
    "hash": "916dbcbb3f70747c44a77c7bcd40155683ae19c65e1c03b4aa3499c5328201f1"
   }
  }
 },
 "nbformat": 4,
 "nbformat_minor": 2
}
