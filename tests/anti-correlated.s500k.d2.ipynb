{
 "cells": [
  {
   "attachments": {},
   "cell_type": "markdown",
   "metadata": {},
   "source": [
    "### Prepare Notebook"
   ]
  },
  {
   "cell_type": "code",
   "execution_count": 1,
   "metadata": {
    "vscode": {
     "languageId": "bat"
    }
   },
   "outputs": [
    {
     "name": "stdout",
     "output_type": "stream",
     "text": [
      "/home/mnapps/DominanceQueries\n"
     ]
    }
   ],
   "source": [
    "%cd ../"
   ]
  },
  {
   "cell_type": "code",
   "execution_count": 2,
   "metadata": {},
   "outputs": [],
   "source": [
    "from visualize import visualize"
   ]
  },
  {
   "attachments": {},
   "cell_type": "markdown",
   "metadata": {},
   "source": [
    "### Uniform Dataset with 1000 samples and 2 dimensions"
   ]
  },
  {
   "cell_type": "markdown",
   "metadata": {},
   "source": [
    "#### Generate Dataset"
   ]
  },
  {
   "cell_type": "code",
   "execution_count": 3,
   "metadata": {
    "vscode": {
     "languageId": "bat"
    }
   },
   "outputs": [
    {
     "name": "stdout",
     "output_type": "stream",
     "text": [
      "Generating dataset...\n",
      "Correlations Matrix :\n",
      "          0         1\n",
      "0  1.000000 -0.707264\n",
      "1 -0.707264  1.000000\n",
      "\n",
      "Execution time : 1.045103 sec\n"
     ]
    }
   ],
   "source": [
    "!echo \"Generating dataset...\"\n",
    "!python3 generateDatasets/generateCorrelatedDataset.py -s 500000 -e 0.5 -d 2 -l -1 -o datasets/anti-correlated.s500k.e0.5.d2.csv -r 42"
   ]
  },
  {
   "attachments": {},
   "cell_type": "markdown",
   "metadata": {},
   "source": [
    "#### Run spark script"
   ]
  },
  {
   "cell_type": "code",
   "execution_count": 5,
   "metadata": {
    "vscode": {
     "languageId": "bat"
    }
   },
   "outputs": [
    {
     "name": "stdout",
     "output_type": "stream",
     "text": [
      "Executing Spark Script...\n",
      "\u001b[34m >>>> \u001b[32m Reading settings file : /home/mnapps/DominanceQueries/settings.json\n",
      "Using Spark's default log4j profile: org/apache/spark/log4j-defaults.properties\n",
      "WARNING: An illegal reflective access operation has occurred\n",
      "WARNING: Illegal reflective access by org.apache.spark.unsafe.Platform (file:/home/mnapps/DominanceQueries/DominanceQueries.jar) to constructor java.nio.DirectByteBuffer(long,int)\n",
      "WARNING: Please consider reporting this to the maintainers of org.apache.spark.unsafe.Platform\n",
      "WARNING: Use --illegal-access=warn to enable warnings of further illegal reflective access operations\n",
      "WARNING: All illegal access operations will be denied in a future release\n",
      "\u001b[2J\u001b[34m >>>> (0.0000sec)\u001b[32m File set for read : /home/mnapps/DominanceQueries/datasets/anti-correlated.s500k.e0.5.d2.csv\n",
      "\u001b[34m >>>> (0.3679sec)\u001b[32m Gathering and sorting the data...\n",
      "\u001b[34m >>>> (4.4948sec)\u001b[32m Execution time : 4.494702989 sec\n",
      "\u001b[34m >>>> (4.4952sec)\u001b[32m ---\n",
      "\u001b[34m >>>> (4.4955sec)\u001b[32m \n",
      "\u001b[34m >>>> (0.0000sec)\u001b[32m Task 1:\n",
      "\u001b[34m >>>> (2.2407sec)\u001b[32m Saving results in : /home/mnapps/DominanceQueries/results/anti-correlated.s500k.e0.5.d2/task1.csv\n",
      "\u001b[34m >>>> (2.2433sec)\u001b[32m Execution time : 2.243237267 sec\n",
      "\u001b[34m >>>> (2.2434sec)\u001b[32m ---\n",
      "\u001b[34m >>>> (2.2435sec)\u001b[32m \n",
      "\u001b[34m >>>> (0.0000sec)\u001b[32m Task 2:\n",
      "\u001b[34m >>>> (0.0001sec)\u001b[32m Calculating the top 10 points in terms of dominations...\n",
      "\u001b[34m >>>> (21.0400sec)\u001b[32m Saving results in : /home/mnapps/DominanceQueries/results/anti-correlated.s500k.e0.5.d2/task2.csv\n",
      "\u001b[34m >>>> (21.0405sec)\u001b[32m Execution time : 21.040519725 sec\n",
      "\u001b[34m >>>> (21.0406sec)\u001b[32m ---\n",
      "\u001b[34m >>>> (21.0407sec)\u001b[32m \n",
      "\u001b[34m >>>> (0.0000sec)\u001b[32m Task 3:\n",
      "\u001b[34m >>>> (1.2815sec)\u001b[32m Saving results in : /home/mnapps/DominanceQueries/results/anti-correlated.s500k.e0.5.d2/task3.csv\n",
      "\u001b[34m >>>> (1.2823sec)\u001b[32m Execution time : 1.28225759 sec\n",
      "\u001b[34m >>>> (1.2824sec)\u001b[32m ---\n",
      "\u001b[34m >>>> (1.2824sec)\u001b[32m \n"
     ]
    }
   ],
   "source": [
    "!echo \"Executing Spark Script...\"\n",
    "!java -jar DominanceQueries.jar settings.json 0 \"anti-correlated.s500k.e0.5.d2\" 10 4"
   ]
  },
  {
   "attachments": {},
   "cell_type": "markdown",
   "metadata": {},
   "source": [
    "### Conclude execution"
   ]
  },
  {
   "cell_type": "code",
   "execution_count": 8,
   "metadata": {
    "vscode": {
     "languageId": "bat"
    }
   },
   "outputs": [
    {
     "name": "stdout",
     "output_type": "stream",
     "text": [
      "/home/mnapps/DominanceQueries/tests\n"
     ]
    }
   ],
   "source": [
    "%cd tests"
   ]
  },
  {
   "cell_type": "markdown",
   "metadata": {},
   "source": []
  }
 ],
 "metadata": {
  "kernelspec": {
   "display_name": "Python 3",
   "language": "python",
   "name": "python3"
  },
  "language_info": {
   "codemirror_mode": {
    "name": "ipython",
    "version": 3
   },
   "file_extension": ".py",
   "mimetype": "text/x-python",
   "name": "python",
   "nbconvert_exporter": "python",
   "pygments_lexer": "ipython3",
   "version": "3.8.10"
  },
  "orig_nbformat": 4,
  "vscode": {
   "interpreter": {
    "hash": "916dbcbb3f70747c44a77c7bcd40155683ae19c65e1c03b4aa3499c5328201f1"
   }
  }
 },
 "nbformat": 4,
 "nbformat_minor": 2
}
